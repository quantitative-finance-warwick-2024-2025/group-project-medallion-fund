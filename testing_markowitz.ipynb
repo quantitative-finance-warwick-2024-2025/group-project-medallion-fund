{
 "cells": [
  {
   "cell_type": "code",
   "execution_count": 1,
   "id": "08ea2537",
   "metadata": {},
   "outputs": [],
   "source": [
    "import numpy as np"
   ]
  },
  {
   "cell_type": "markdown",
   "id": "08711394",
   "metadata": {},
   "source": [
    "# Wealth 6:"
   ]
  },
  {
   "cell_type": "code",
   "execution_count": 2,
   "id": "1b177c4e",
   "metadata": {},
   "outputs": [],
   "source": [
    "r = 0.02\n",
    "mumin = 0.03\n",
    "oldwealth = 1.01*1.02*1.005*1.04*1.01\n",
    "\n",
    "rets = np.array([[0.01, 1/101, -3/102, 6/99, -30/105],\n",
    "                 [-0.02, 0, 6/49, 1/55, 3/14]])\n",
    "\n",
    "cov = np.cov(rets, rowvar=True)\n",
    "\n",
    "covm1 = np.linalg.inv(cov)\n",
    "\n",
    "means = np.mean(rets, axis = 1)\n",
    "ones = np.ones(2)\n",
    "means\n",
    "\n",
    "A = ones @ covm1 @ ones\n",
    "B = ones @ covm1 @ means\n",
    "C = means @ covm1 @ means\n",
    "\n",
    "pi = (mumin - r) / (A*r**2 - 2*B*r + C) * covm1 @ (means - r * ones)\n",
    "\n",
    "wealth6 = (1-pi @ ones)*oldwealth*(1+r) + oldwealth * pi @ np.array([70/75, 71/68])\n",
    "wealth6"
   ]
  },
  {
   "cell_type": "markdown",
   "id": "ed8bee2a",
   "metadata": {},
   "source": [
    "# Wealth 7:"
   ]
  },
  {
   "cell_type": "code",
   "execution_count": 15,
   "id": "8ab63202",
   "metadata": {},
   "outputs": [
    {
     "data": {
      "text/plain": [
       "1.2477316261560714"
      ]
     },
     "execution_count": 15,
     "metadata": {},
     "output_type": "execute_result"
    }
   ],
   "source": [
    "r = 0.01\n",
    "mumin = 0.03\n",
    "oldwealth = wealth6\n",
    "\n",
    "rets = np.array([[1/101, -3/102, 6/99, -30/105, -5/75],\n",
    "                 [0, 6/49, 1/55, 3/14, 3/68]])\n",
    "\n",
    "cov = np.cov(rets, rowvar=True)\n",
    "\n",
    "covm1 = np.linalg.inv(cov)\n",
    "means = np.mean(rets, axis = 1)\n",
    "ones = np.ones(2)\n",
    "means\n",
    "\n",
    "A = ones @ covm1 @ ones\n",
    "B = ones @ covm1 @ means\n",
    "C = means @ covm1 @ means\n",
    "\n",
    "pi = (mumin - r) / (A*r**2 - 2*B*r + C) * covm1 @ (means - r * ones)\n",
    "\n",
    "wealth7 = (1-pi @ ones)*oldwealth*(1+r) + oldwealth * pi @ np.array([90/70, 82/71])\n",
    "wealth7"
   ]
  },
  {
   "cell_type": "markdown",
   "id": "47fd1c24",
   "metadata": {},
   "source": [
    "# Wealth 8:"
   ]
  },
  {
   "cell_type": "code",
   "execution_count": 18,
   "id": "df9d554f",
   "metadata": {},
   "outputs": [
    {
     "name": "stdout",
     "output_type": "stream",
     "text": [
      "[[ 25.19158527  18.02202897]\n",
      " [ 18.02202897 167.82915722]]\n"
     ]
    },
    {
     "data": {
      "text/plain": [
       "1.203032074867376"
      ]
     },
     "execution_count": 18,
     "metadata": {},
     "output_type": "execute_result"
    }
   ],
   "source": [
    "r = 0.015\n",
    "mumin = 0.03\n",
    "oldwealth = wealth7\n",
    "\n",
    "rets = np.array([[-3/102, 6/99, -30/105, -5/75, 90/70-1],\n",
    "                 [6/49, 1/55, 3/14, 3/68, 82/71-1]])\n",
    "\n",
    "cov = np.cov(rets, rowvar=True)\n",
    "\n",
    "covm1 = np.linalg.inv(cov)\n",
    "means = np.mean(rets, axis = 1)\n",
    "ones = np.ones(2)\n",
    "\n",
    "A = ones @ covm1 @ ones\n",
    "B = ones @ covm1 @ means\n",
    "C = means @ covm1 @ means\n",
    "\n",
    "pi = (mumin - r) / (A*r**2 - 2*B*r + C) * covm1 @ (means - r * ones)\n",
    "\n",
    "wealth8 = (1-pi @ ones)*oldwealth*(1+r) + oldwealth * pi @ np.array([63/90, 59/82])\n",
    "wealth8"
   ]
  }
 ],
 "metadata": {
  "kernelspec": {
   "display_name": "Python 3 (ipykernel)",
   "language": "python",
   "name": "python3"
  },
  "language_info": {
   "codemirror_mode": {
    "name": "ipython",
    "version": 3
   },
   "file_extension": ".py",
   "mimetype": "text/x-python",
   "name": "python",
   "nbconvert_exporter": "python",
   "pygments_lexer": "ipython3",
   "version": "3.9.12"
  }
 },
 "nbformat": 4,
 "nbformat_minor": 5
}
