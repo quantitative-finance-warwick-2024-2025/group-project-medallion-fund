{
 "cells": [
  {
   "cell_type": "code",
   "execution_count": 7,
   "id": "e383549a-ac2a-49d5-b9f1-57001cbbf96d",
   "metadata": {},
   "outputs": [],
   "source": [
    "import pandas_datareader.data as web\n",
    "import datetime\n",
    "import pandas as pd"
   ]
  },
  {
   "cell_type": "code",
   "execution_count": 8,
   "id": "a4497bcf-65f6-49e4-87c8-ec1beccc91fb",
   "metadata": {},
   "outputs": [],
   "source": [
    "start = datetime.datetime(2015, 1, 1)\n",
    "end = datetime.datetime(2024, 12, 31)"
   ]
  },
  {
   "cell_type": "code",
   "execution_count": 9,
   "id": "67ecb1f2-c6bd-481a-ab84-ce4f1a486f76",
   "metadata": {},
   "outputs": [],
   "source": [
    "#Bond\n",
    "df_yield = web.DataReader(\"DGS10\", \"fred\", start, end)\n",
    "df_yield['bond_daily_return'] = (1 + df_yield['DGS10'] / 100)**(1/252) - 1"
   ]
  },
  {
   "cell_type": "markdown",
   "id": "d20c748a-a3cb-4625-a630-a1ace252a715",
   "metadata": {},
   "source": [
    "To achieve diversification for a Markowitz analysis:\n",
    "\n",
    "    AAPL (Apple Inc.)\n",
    "    JNJ (Johnson & Johnson)\n",
    "    PG (Procter & Gamble)\n",
    "    TSLA: Tesla, Inc.\n",
    "    NVDA: NVIDIA Corporation\n",
    "    MRNA: Moderna, Inc.\n",
    "    BA: The Boeing Company\n",
    "    SHOP: Shopify Inc.\n",
    "    NEM: Newmont Corporation\n",
    "    SPG: Simon Property Group\n",
    "    DIS: The Walt Disney Company\n"
   ]
  },
  {
   "cell_type": "code",
   "execution_count": 4,
   "id": "d8b161b8-6b79-4eb8-8693-733b1dd92482",
   "metadata": {},
   "outputs": [],
   "source": [
    "tickers = [\"AAPL\", \"JNJ\", \"PG\",\"TSLA\", \"NVDA\", \"MRNA\", \"BA\", \"SHOP\", \"NEM\", \"SPG\", \"DIS\"]\n",
    "stock_data = {}\n",
    "for ticker in tickers:\n",
    "    df = web.DataReader(ticker, \"stooq\", start, end)\n",
    "    df = df.sort_index()  # sort by date ascending\n",
    "    df = df[['Close']].rename(columns={'Close': f\"{ticker}\"})\n",
    "    stock_data[ticker] = df\n"
   ]
  },
  {
   "cell_type": "code",
   "execution_count": 5,
   "id": "492e32c5-502c-4889-a77a-edb22cf2281f",
   "metadata": {},
   "outputs": [],
   "source": [
    "final_df = df_yield[['bond_daily_return']].copy()\n",
    "for ticker in tickers:\n",
    "    final_df = final_df.merge(stock_data[ticker], left_index=True, right_index=True, how='outer')\n",
    "final_df = final_df.sort_index().dropna()\n"
   ]
  },
  {
   "cell_type": "code",
   "execution_count": 6,
   "id": "a241678a-770a-4472-8126-9811b7f9ecf7",
   "metadata": {},
   "outputs": [],
   "source": [
    "path = \"/Users/akshayzine/Academics/Programming_Group_Project/Akshay_Branch/group-project-medallion-fund/Assets_10.csv\"\n",
    "final_df.to_csv(path)"
   ]
  },
  {
   "cell_type": "code",
   "execution_count": null,
   "id": "147a0eba-34ae-4526-8dfa-507cc3cc3286",
   "metadata": {},
   "outputs": [],
   "source": []
  }
 ],
 "metadata": {
  "kernelspec": {
   "display_name": "Python 3 (ipykernel)",
   "language": "python",
   "name": "python3"
  },
  "language_info": {
   "codemirror_mode": {
    "name": "ipython",
    "version": 3
   },
   "file_extension": ".py",
   "mimetype": "text/x-python",
   "name": "python",
   "nbconvert_exporter": "python",
   "pygments_lexer": "ipython3",
   "version": "3.9.18"
  }
 },
 "nbformat": 4,
 "nbformat_minor": 5
}
