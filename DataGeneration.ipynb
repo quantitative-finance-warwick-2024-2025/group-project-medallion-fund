{
 "cells": [
  {
   "cell_type": "code",
   "execution_count": 1,
   "id": "e383549a-ac2a-49d5-b9f1-57001cbbf96d",
   "metadata": {},
   "outputs": [],
   "source": [
    "import pandas_datareader.data as web\n",
    "import datetime\n",
    "import pandas as pd\n",
    "import os\n",
    "\n",
    "start = datetime.datetime(2018, 1, 1)\n",
    "end = datetime.datetime(2024, 12, 31)\n",
    "\n",
    "#Bond\n",
    "df_yield = web.DataReader(\"DGS10\", \"fred\", start, end)\n",
    "df_yield['bond_daily_return'] = (1 + df_yield['DGS10'] / 100)**(1/252) - 1\n",
    "\n",
    "\"\"\"\n",
    "To achieve diversification for a Markowitz analysis:\n",
    "\n",
    "    AAPL (Apple Inc.)\n",
    "    JNJ (Johnson & Johnson)\n",
    "    PG (Procter & Gamble)\n",
    "    TSLA: Tesla, Inc.\n",
    "    NVDA: NVIDIA Corporation\n",
    "    MRNA: Moderna, Inc.\n",
    "    BA: The Boeing Company\n",
    "    SHOP: Shopify Inc.\n",
    "    NEM: Newmont Corporation\n",
    "    SPG: Simon Property Group\n",
    "    DIS: The Walt Disney Company\n",
    "\"\"\"\n",
    "\n",
    "tickers = [\"AAPL\", \"JNJ\", \"PG\",\"TSLA\", \"NVDA\", \"MRNA\", \"BA\", \"SHOP\", \"NEM\", \"SPG\", \"DIS\"]\n",
    "stock_data = {}\n",
    "for ticker in tickers:\n",
    "    df = web.DataReader(ticker, \"stooq\", start, end)\n",
    "    df = df.sort_index()  # sort by date ascending\n",
    "    df = df[['Close']].rename(columns={'Close': f\"{ticker}\"})\n",
    "    stock_data[ticker] = df\n",
    "\n",
    "\n",
    "final_df = df_yield[['bond_daily_return']].copy()\n",
    "for ticker in tickers:\n",
    "    final_df = final_df.merge(stock_data[ticker], left_index=True, right_index=True, how='outer')\n",
    "final_df = final_df.sort_index().dropna()\n",
    "\n",
    "\n",
    "source_path = os.getcwd()\n",
    "assets_path=source_path+'/'+'datafiles/'+\"/Assets.csv\"\n",
    "final_df.to_csv(assets_path)"
   ]
  },
  {
   "cell_type": "code",
   "execution_count": null,
   "id": "99276722-5883-4981-9288-6649c9318617",
   "metadata": {},
   "outputs": [],
   "source": []
  }
 ],
 "metadata": {
  "kernelspec": {
   "display_name": "Python 3 (ipykernel)",
   "language": "python",
   "name": "python3"
  },
  "language_info": {
   "codemirror_mode": {
    "name": "ipython",
    "version": 3
   },
   "file_extension": ".py",
   "mimetype": "text/x-python",
   "name": "python",
   "nbconvert_exporter": "python",
   "pygments_lexer": "ipython3",
   "version": "3.9.18"
  }
 },
 "nbformat": 4,
 "nbformat_minor": 5
}
